{
 "metadata": {
  "language_info": {
   "codemirror_mode": {
    "name": "ipython",
    "version": 3
   },
   "file_extension": ".py",
   "mimetype": "text/x-python",
   "name": "python",
   "nbconvert_exporter": "python",
   "pygments_lexer": "ipython3",
   "version": "3.9.2"
  },
  "orig_nbformat": 2,
  "kernelspec": {
   "name": "python3",
   "display_name": "Python 3.9.2 64-bit (windows store)",
   "metadata": {
    "interpreter": {
     "hash": "b0f1e94f7b8dab6dcbaf8668d97b2de1660f8eb0c7f305b4109b0138f5684031"
    }
   }
  }
 },
 "nbformat": 4,
 "nbformat_minor": 2,
 "cells": [
  {
   "cell_type": "code",
   "execution_count": 1,
   "metadata": {},
   "outputs": [],
   "source": [
    "import pandas as pd\n",
    "import numpy as np"
   ]
  },
  {
   "cell_type": "code",
   "execution_count": 2,
   "metadata": {},
   "outputs": [],
   "source": [
    "from numpy.random import randn\n",
    "np.random.seed(101)"
   ]
  },
  {
   "cell_type": "code",
   "execution_count": 6,
   "metadata": {},
   "outputs": [],
   "source": [
    "df = pd.DataFrame(randn(6,3),index='A B C D E F'.split(),columns='1 2 3'.split())"
   ]
  },
  {
   "cell_type": "code",
   "execution_count": 7,
   "metadata": {},
   "outputs": [
    {
     "output_type": "execute_result",
     "data": {
      "text/plain": [
       "          1         2         3\n",
       "A  2.605967  0.683509  0.302665\n",
       "B  1.693723 -1.706086 -1.159119\n",
       "C -0.134841  0.390528  0.166905\n",
       "D  0.184502  0.807706  0.072960\n",
       "E  0.638787  0.329646 -0.497104\n",
       "F -0.754070 -0.943406  0.484752"
      ],
      "text/html": "<div>\n<style scoped>\n    .dataframe tbody tr th:only-of-type {\n        vertical-align: middle;\n    }\n\n    .dataframe tbody tr th {\n        vertical-align: top;\n    }\n\n    .dataframe thead th {\n        text-align: right;\n    }\n</style>\n<table border=\"1\" class=\"dataframe\">\n  <thead>\n    <tr style=\"text-align: right;\">\n      <th></th>\n      <th>1</th>\n      <th>2</th>\n      <th>3</th>\n    </tr>\n  </thead>\n  <tbody>\n    <tr>\n      <th>A</th>\n      <td>2.605967</td>\n      <td>0.683509</td>\n      <td>0.302665</td>\n    </tr>\n    <tr>\n      <th>B</th>\n      <td>1.693723</td>\n      <td>-1.706086</td>\n      <td>-1.159119</td>\n    </tr>\n    <tr>\n      <th>C</th>\n      <td>-0.134841</td>\n      <td>0.390528</td>\n      <td>0.166905</td>\n    </tr>\n    <tr>\n      <th>D</th>\n      <td>0.184502</td>\n      <td>0.807706</td>\n      <td>0.072960</td>\n    </tr>\n    <tr>\n      <th>E</th>\n      <td>0.638787</td>\n      <td>0.329646</td>\n      <td>-0.497104</td>\n    </tr>\n    <tr>\n      <th>F</th>\n      <td>-0.754070</td>\n      <td>-0.943406</td>\n      <td>0.484752</td>\n    </tr>\n  </tbody>\n</table>\n</div>"
     },
     "metadata": {},
     "execution_count": 7
    }
   ],
   "source": [
    "df"
   ]
  },
  {
   "cell_type": "code",
   "execution_count": 10,
   "metadata": {},
   "outputs": [
    {
     "output_type": "execute_result",
     "data": {
      "text/plain": [
       "A    2.605967\n",
       "B    1.693723\n",
       "C   -0.134841\n",
       "D    0.184502\n",
       "E    0.638787\n",
       "F   -0.754070\n",
       "Name: 1, dtype: float64"
      ]
     },
     "metadata": {},
     "execution_count": 10
    }
   ],
   "source": [
    "df['1']"
   ]
  },
  {
   "cell_type": "code",
   "execution_count": 12,
   "metadata": {},
   "outputs": [
    {
     "output_type": "execute_result",
     "data": {
      "text/plain": [
       "-0.7540697010400628"
      ]
     },
     "metadata": {},
     "execution_count": 12
    }
   ],
   "source": [
    "df['1'][5]"
   ]
  },
  {
   "cell_type": "code",
   "execution_count": 13,
   "metadata": {},
   "outputs": [
    {
     "output_type": "execute_result",
     "data": {
      "text/plain": [
       "A    2.605967\n",
       "B    1.693723\n",
       "C   -0.134841\n",
       "Name: 1, dtype: float64"
      ]
     },
     "metadata": {},
     "execution_count": 13
    }
   ],
   "source": [
    "df['1'][0:3]"
   ]
  },
  {
   "cell_type": "code",
   "execution_count": 14,
   "metadata": {},
   "outputs": [
    {
     "output_type": "execute_result",
     "data": {
      "text/plain": [
       "pandas.core.series.Series"
      ]
     },
     "metadata": {},
     "execution_count": 14
    }
   ],
   "source": [
    "type(df['1'])"
   ]
  },
  {
   "cell_type": "code",
   "execution_count": 27,
   "metadata": {},
   "outputs": [
    {
     "output_type": "execute_result",
     "data": {
      "text/plain": [
       "          1         2         3  min  test1\n",
       "A  2.605967  0.683509  0.302665   10     20\n",
       "B  1.693723 -1.706086 -1.159119   11     22\n",
       "C -0.134841  0.390528  0.166905   12     24\n",
       "D  0.184502  0.807706  0.072960   13     26\n",
       "E  0.638787  0.329646 -0.497104   14     28\n",
       "F -0.754070 -0.943406  0.484752   15     30"
      ],
      "text/html": "<div>\n<style scoped>\n    .dataframe tbody tr th:only-of-type {\n        vertical-align: middle;\n    }\n\n    .dataframe tbody tr th {\n        vertical-align: top;\n    }\n\n    .dataframe thead th {\n        text-align: right;\n    }\n</style>\n<table border=\"1\" class=\"dataframe\">\n  <thead>\n    <tr style=\"text-align: right;\">\n      <th></th>\n      <th>1</th>\n      <th>2</th>\n      <th>3</th>\n      <th>min</th>\n      <th>test1</th>\n    </tr>\n  </thead>\n  <tbody>\n    <tr>\n      <th>A</th>\n      <td>2.605967</td>\n      <td>0.683509</td>\n      <td>0.302665</td>\n      <td>10</td>\n      <td>20</td>\n    </tr>\n    <tr>\n      <th>B</th>\n      <td>1.693723</td>\n      <td>-1.706086</td>\n      <td>-1.159119</td>\n      <td>11</td>\n      <td>22</td>\n    </tr>\n    <tr>\n      <th>C</th>\n      <td>-0.134841</td>\n      <td>0.390528</td>\n      <td>0.166905</td>\n      <td>12</td>\n      <td>24</td>\n    </tr>\n    <tr>\n      <th>D</th>\n      <td>0.184502</td>\n      <td>0.807706</td>\n      <td>0.072960</td>\n      <td>13</td>\n      <td>26</td>\n    </tr>\n    <tr>\n      <th>E</th>\n      <td>0.638787</td>\n      <td>0.329646</td>\n      <td>-0.497104</td>\n      <td>14</td>\n      <td>28</td>\n    </tr>\n    <tr>\n      <th>F</th>\n      <td>-0.754070</td>\n      <td>-0.943406</td>\n      <td>0.484752</td>\n      <td>15</td>\n      <td>30</td>\n    </tr>\n  </tbody>\n</table>\n</div>"
     },
     "metadata": {},
     "execution_count": 27
    }
   ],
   "source": [
    "df['min']=[10,11,12,13,14,15]\n",
    "df['test1']=[20,22,24,26,28,30]\n",
    "df"
   ]
  },
  {
   "cell_type": "code",
   "execution_count": 28,
   "metadata": {},
   "outputs": [
    {
     "output_type": "execute_result",
     "data": {
      "text/plain": [
       "<bound method NDFrame._add_numeric_operations.<locals>.min of           1         2         3  min  test1\n",
       "A  2.605967  0.683509  0.302665   10     20\n",
       "B  1.693723 -1.706086 -1.159119   11     22\n",
       "C -0.134841  0.390528  0.166905   12     24\n",
       "D  0.184502  0.807706  0.072960   13     26\n",
       "E  0.638787  0.329646 -0.497104   14     28\n",
       "F -0.754070 -0.943406  0.484752   15     30>"
      ]
     },
     "metadata": {},
     "execution_count": 28
    }
   ],
   "source": [
    "df.min"
   ]
  },
  {
   "cell_type": "code",
   "execution_count": 33,
   "metadata": {},
   "outputs": [
    {
     "output_type": "execute_result",
     "data": {
      "text/plain": [
       "A    20\n",
       "B    22\n",
       "C    24\n",
       "D    26\n",
       "E    28\n",
       "F    30\n",
       "Name: test1, dtype: int64"
      ]
     },
     "metadata": {},
     "execution_count": 33
    }
   ],
   "source": [
    "df.test1"
   ]
  },
  {
   "cell_type": "code",
   "execution_count": 30,
   "metadata": {},
   "outputs": [
    {
     "output_type": "execute_result",
     "data": {
      "text/plain": [
       "A    10\n",
       "B    11\n",
       "C    12\n",
       "D    13\n",
       "E    14\n",
       "F    15\n",
       "Name: min, dtype: int64"
      ]
     },
     "metadata": {},
     "execution_count": 30
    }
   ],
   "source": [
    "df['min']"
   ]
  },
  {
   "cell_type": "code",
   "execution_count": 31,
   "metadata": {},
   "outputs": [
    {
     "output_type": "execute_result",
     "data": {
      "text/plain": [
       "A    20\n",
       "B    22\n",
       "C    24\n",
       "D    26\n",
       "E    28\n",
       "F    30\n",
       "Name: test1, dtype: int64"
      ]
     },
     "metadata": {},
     "execution_count": 31
    }
   ],
   "source": [
    "df['test1']"
   ]
  },
  {
   "cell_type": "code",
   "execution_count": 34,
   "metadata": {},
   "outputs": [
    {
     "output_type": "execute_result",
     "data": {
      "text/plain": [
       "          1  test1\n",
       "A  2.605967     20\n",
       "B  1.693723     22\n",
       "C -0.134841     24\n",
       "D  0.184502     26\n",
       "E  0.638787     28\n",
       "F -0.754070     30"
      ],
      "text/html": "<div>\n<style scoped>\n    .dataframe tbody tr th:only-of-type {\n        vertical-align: middle;\n    }\n\n    .dataframe tbody tr th {\n        vertical-align: top;\n    }\n\n    .dataframe thead th {\n        text-align: right;\n    }\n</style>\n<table border=\"1\" class=\"dataframe\">\n  <thead>\n    <tr style=\"text-align: right;\">\n      <th></th>\n      <th>1</th>\n      <th>test1</th>\n    </tr>\n  </thead>\n  <tbody>\n    <tr>\n      <th>A</th>\n      <td>2.605967</td>\n      <td>20</td>\n    </tr>\n    <tr>\n      <th>B</th>\n      <td>1.693723</td>\n      <td>22</td>\n    </tr>\n    <tr>\n      <th>C</th>\n      <td>-0.134841</td>\n      <td>24</td>\n    </tr>\n    <tr>\n      <th>D</th>\n      <td>0.184502</td>\n      <td>26</td>\n    </tr>\n    <tr>\n      <th>E</th>\n      <td>0.638787</td>\n      <td>28</td>\n    </tr>\n    <tr>\n      <th>F</th>\n      <td>-0.754070</td>\n      <td>30</td>\n    </tr>\n  </tbody>\n</table>\n</div>"
     },
     "metadata": {},
     "execution_count": 34
    }
   ],
   "source": [
    "df[['1','test1']]"
   ]
  },
  {
   "cell_type": "code",
   "execution_count": 35,
   "metadata": {},
   "outputs": [
    {
     "output_type": "execute_result",
     "data": {
      "text/plain": [
       "1         2.605967\n",
       "2         0.683509\n",
       "3         0.302665\n",
       "min      10.000000\n",
       "test1    20.000000\n",
       "Name: A, dtype: float64"
      ]
     },
     "metadata": {},
     "execution_count": 35
    }
   ],
   "source": [
    "df.loc['A']"
   ]
  },
  {
   "cell_type": "code",
   "execution_count": 38,
   "metadata": {},
   "outputs": [
    {
     "output_type": "execute_result",
     "data": {
      "text/plain": [
       "          1         2         3  min  test1\n",
       "A  2.605967  0.683509  0.302665   10     20\n",
       "B  1.693723 -1.706086 -1.159119   11     22\n",
       "C -0.134841  0.390528  0.166905   12     24\n",
       "D  0.184502  0.807706  0.072960   13     26"
      ],
      "text/html": "<div>\n<style scoped>\n    .dataframe tbody tr th:only-of-type {\n        vertical-align: middle;\n    }\n\n    .dataframe tbody tr th {\n        vertical-align: top;\n    }\n\n    .dataframe thead th {\n        text-align: right;\n    }\n</style>\n<table border=\"1\" class=\"dataframe\">\n  <thead>\n    <tr style=\"text-align: right;\">\n      <th></th>\n      <th>1</th>\n      <th>2</th>\n      <th>3</th>\n      <th>min</th>\n      <th>test1</th>\n    </tr>\n  </thead>\n  <tbody>\n    <tr>\n      <th>A</th>\n      <td>2.605967</td>\n      <td>0.683509</td>\n      <td>0.302665</td>\n      <td>10</td>\n      <td>20</td>\n    </tr>\n    <tr>\n      <th>B</th>\n      <td>1.693723</td>\n      <td>-1.706086</td>\n      <td>-1.159119</td>\n      <td>11</td>\n      <td>22</td>\n    </tr>\n    <tr>\n      <th>C</th>\n      <td>-0.134841</td>\n      <td>0.390528</td>\n      <td>0.166905</td>\n      <td>12</td>\n      <td>24</td>\n    </tr>\n    <tr>\n      <th>D</th>\n      <td>0.184502</td>\n      <td>0.807706</td>\n      <td>0.072960</td>\n      <td>13</td>\n      <td>26</td>\n    </tr>\n  </tbody>\n</table>\n</div>"
     },
     "metadata": {},
     "execution_count": 38
    }
   ],
   "source": [
    "df.loc['A':'D']"
   ]
  },
  {
   "cell_type": "code",
   "execution_count": 39,
   "metadata": {},
   "outputs": [
    {
     "output_type": "execute_result",
     "data": {
      "text/plain": [
       "1        -0.134841\n",
       "2         0.390528\n",
       "3         0.166905\n",
       "min      12.000000\n",
       "test1    24.000000\n",
       "Name: C, dtype: float64"
      ]
     },
     "metadata": {},
     "execution_count": 39
    }
   ],
   "source": [
    "df.iloc[2]"
   ]
  },
  {
   "cell_type": "code",
   "execution_count": 40,
   "metadata": {},
   "outputs": [
    {
     "output_type": "execute_result",
     "data": {
      "text/plain": [
       "1        -0.754070\n",
       "2        -0.943406\n",
       "3         0.484752\n",
       "min      15.000000\n",
       "test1    30.000000\n",
       "Name: F, dtype: float64"
      ]
     },
     "metadata": {},
     "execution_count": 40
    }
   ],
   "source": [
    "df.iloc[-1]"
   ]
  },
  {
   "cell_type": "code",
   "execution_count": 41,
   "metadata": {},
   "outputs": [
    {
     "output_type": "execute_result",
     "data": {
      "text/plain": [
       "          1         2         3  min  test1\n",
       "A  2.605967  0.683509  0.302665   10     20\n",
       "B  1.693723 -1.706086 -1.159119   11     22\n",
       "C -0.134841  0.390528  0.166905   12     24\n",
       "D  0.184502  0.807706  0.072960   13     26\n",
       "E  0.638787  0.329646 -0.497104   14     28\n",
       "F -0.754070 -0.943406  0.484752   15     30"
      ],
      "text/html": "<div>\n<style scoped>\n    .dataframe tbody tr th:only-of-type {\n        vertical-align: middle;\n    }\n\n    .dataframe tbody tr th {\n        vertical-align: top;\n    }\n\n    .dataframe thead th {\n        text-align: right;\n    }\n</style>\n<table border=\"1\" class=\"dataframe\">\n  <thead>\n    <tr style=\"text-align: right;\">\n      <th></th>\n      <th>1</th>\n      <th>2</th>\n      <th>3</th>\n      <th>min</th>\n      <th>test1</th>\n    </tr>\n  </thead>\n  <tbody>\n    <tr>\n      <th>A</th>\n      <td>2.605967</td>\n      <td>0.683509</td>\n      <td>0.302665</td>\n      <td>10</td>\n      <td>20</td>\n    </tr>\n    <tr>\n      <th>B</th>\n      <td>1.693723</td>\n      <td>-1.706086</td>\n      <td>-1.159119</td>\n      <td>11</td>\n      <td>22</td>\n    </tr>\n    <tr>\n      <th>C</th>\n      <td>-0.134841</td>\n      <td>0.390528</td>\n      <td>0.166905</td>\n      <td>12</td>\n      <td>24</td>\n    </tr>\n    <tr>\n      <th>D</th>\n      <td>0.184502</td>\n      <td>0.807706</td>\n      <td>0.072960</td>\n      <td>13</td>\n      <td>26</td>\n    </tr>\n    <tr>\n      <th>E</th>\n      <td>0.638787</td>\n      <td>0.329646</td>\n      <td>-0.497104</td>\n      <td>14</td>\n      <td>28</td>\n    </tr>\n    <tr>\n      <th>F</th>\n      <td>-0.754070</td>\n      <td>-0.943406</td>\n      <td>0.484752</td>\n      <td>15</td>\n      <td>30</td>\n    </tr>\n  </tbody>\n</table>\n</div>"
     },
     "metadata": {},
     "execution_count": 41
    }
   ],
   "source": [
    "df"
   ]
  },
  {
   "cell_type": "code",
   "execution_count": 50,
   "metadata": {},
   "outputs": [
    {
     "output_type": "execute_result",
     "data": {
      "text/plain": [
       "          1         2         3  min  test1\n",
       "A  2.605967  0.683509  0.302665   10     20\n",
       "C -0.134841  0.390528  0.166905   12     24\n",
       "E  0.638787  0.329646 -0.497104   14     28"
      ],
      "text/html": "<div>\n<style scoped>\n    .dataframe tbody tr th:only-of-type {\n        vertical-align: middle;\n    }\n\n    .dataframe tbody tr th {\n        vertical-align: top;\n    }\n\n    .dataframe thead th {\n        text-align: right;\n    }\n</style>\n<table border=\"1\" class=\"dataframe\">\n  <thead>\n    <tr style=\"text-align: right;\">\n      <th></th>\n      <th>1</th>\n      <th>2</th>\n      <th>3</th>\n      <th>min</th>\n      <th>test1</th>\n    </tr>\n  </thead>\n  <tbody>\n    <tr>\n      <th>A</th>\n      <td>2.605967</td>\n      <td>0.683509</td>\n      <td>0.302665</td>\n      <td>10</td>\n      <td>20</td>\n    </tr>\n    <tr>\n      <th>C</th>\n      <td>-0.134841</td>\n      <td>0.390528</td>\n      <td>0.166905</td>\n      <td>12</td>\n      <td>24</td>\n    </tr>\n    <tr>\n      <th>E</th>\n      <td>0.638787</td>\n      <td>0.329646</td>\n      <td>-0.497104</td>\n      <td>14</td>\n      <td>28</td>\n    </tr>\n  </tbody>\n</table>\n</div>"
     },
     "metadata": {},
     "execution_count": 50
    }
   ],
   "source": [
    "df.iloc[0:-1:2]"
   ]
  },
  {
   "cell_type": "code",
   "execution_count": 51,
   "metadata": {},
   "outputs": [
    {
     "output_type": "execute_result",
     "data": {
      "text/plain": [
       "          1         2\n",
       "A  2.605967  0.683509\n",
       "B  1.693723 -1.706086\n",
       "C -0.134841  0.390528\n",
       "D  0.184502  0.807706\n",
       "E  0.638787  0.329646\n",
       "F -0.754070 -0.943406"
      ],
      "text/html": "<div>\n<style scoped>\n    .dataframe tbody tr th:only-of-type {\n        vertical-align: middle;\n    }\n\n    .dataframe tbody tr th {\n        vertical-align: top;\n    }\n\n    .dataframe thead th {\n        text-align: right;\n    }\n</style>\n<table border=\"1\" class=\"dataframe\">\n  <thead>\n    <tr style=\"text-align: right;\">\n      <th></th>\n      <th>1</th>\n      <th>2</th>\n    </tr>\n  </thead>\n  <tbody>\n    <tr>\n      <th>A</th>\n      <td>2.605967</td>\n      <td>0.683509</td>\n    </tr>\n    <tr>\n      <th>B</th>\n      <td>1.693723</td>\n      <td>-1.706086</td>\n    </tr>\n    <tr>\n      <th>C</th>\n      <td>-0.134841</td>\n      <td>0.390528</td>\n    </tr>\n    <tr>\n      <th>D</th>\n      <td>0.184502</td>\n      <td>0.807706</td>\n    </tr>\n    <tr>\n      <th>E</th>\n      <td>0.638787</td>\n      <td>0.329646</td>\n    </tr>\n    <tr>\n      <th>F</th>\n      <td>-0.754070</td>\n      <td>-0.943406</td>\n    </tr>\n  </tbody>\n</table>\n</div>"
     },
     "metadata": {},
     "execution_count": 51
    }
   ],
   "source": [
    "df.iloc[:,0:2]"
   ]
  },
  {
   "cell_type": "code",
   "execution_count": 52,
   "metadata": {},
   "outputs": [
    {
     "output_type": "execute_result",
     "data": {
      "text/plain": [
       "          1         2         3  min  test1\n",
       "A  2.605967  0.683509  0.302665   10     20\n",
       "B  1.693723 -1.706086 -1.159119   11     22"
      ],
      "text/html": "<div>\n<style scoped>\n    .dataframe tbody tr th:only-of-type {\n        vertical-align: middle;\n    }\n\n    .dataframe tbody tr th {\n        vertical-align: top;\n    }\n\n    .dataframe thead th {\n        text-align: right;\n    }\n</style>\n<table border=\"1\" class=\"dataframe\">\n  <thead>\n    <tr style=\"text-align: right;\">\n      <th></th>\n      <th>1</th>\n      <th>2</th>\n      <th>3</th>\n      <th>min</th>\n      <th>test1</th>\n    </tr>\n  </thead>\n  <tbody>\n    <tr>\n      <th>A</th>\n      <td>2.605967</td>\n      <td>0.683509</td>\n      <td>0.302665</td>\n      <td>10</td>\n      <td>20</td>\n    </tr>\n    <tr>\n      <th>B</th>\n      <td>1.693723</td>\n      <td>-1.706086</td>\n      <td>-1.159119</td>\n      <td>11</td>\n      <td>22</td>\n    </tr>\n  </tbody>\n</table>\n</div>"
     },
     "metadata": {},
     "execution_count": 52
    }
   ],
   "source": [
    "df.iloc[0:2,:]"
   ]
  },
  {
   "cell_type": "code",
   "execution_count": 53,
   "metadata": {},
   "outputs": [
    {
     "output_type": "execute_result",
     "data": {
      "text/plain": [
       "          1         2         3  min  test1\n",
       "B  1.693723 -1.706086 -1.159119   11     22\n",
       "D  0.184502  0.807706  0.072960   13     26"
      ],
      "text/html": "<div>\n<style scoped>\n    .dataframe tbody tr th:only-of-type {\n        vertical-align: middle;\n    }\n\n    .dataframe tbody tr th {\n        vertical-align: top;\n    }\n\n    .dataframe thead th {\n        text-align: right;\n    }\n</style>\n<table border=\"1\" class=\"dataframe\">\n  <thead>\n    <tr style=\"text-align: right;\">\n      <th></th>\n      <th>1</th>\n      <th>2</th>\n      <th>3</th>\n      <th>min</th>\n      <th>test1</th>\n    </tr>\n  </thead>\n  <tbody>\n    <tr>\n      <th>B</th>\n      <td>1.693723</td>\n      <td>-1.706086</td>\n      <td>-1.159119</td>\n      <td>11</td>\n      <td>22</td>\n    </tr>\n    <tr>\n      <th>D</th>\n      <td>0.184502</td>\n      <td>0.807706</td>\n      <td>0.072960</td>\n      <td>13</td>\n      <td>26</td>\n    </tr>\n  </tbody>\n</table>\n</div>"
     },
     "metadata": {},
     "execution_count": 53
    }
   ],
   "source": [
    "df.iloc[[1,3]]"
   ]
  },
  {
   "cell_type": "code",
   "execution_count": 54,
   "metadata": {},
   "outputs": [
    {
     "output_type": "execute_result",
     "data": {
      "text/plain": [
       "11"
      ]
     },
     "metadata": {},
     "execution_count": 54
    }
   ],
   "source": [
    "df.iloc[1,3]"
   ]
  },
  {
   "cell_type": "code",
   "execution_count": 55,
   "metadata": {},
   "outputs": [
    {
     "output_type": "execute_result",
     "data": {
      "text/plain": [
       "       1      2      3   min  test1\n",
       "A  False  False  False  True   True\n",
       "B  False  False  False  True   True\n",
       "C  False  False  False  True   True\n",
       "D  False  False  False  True   True\n",
       "E  False  False  False  True   True\n",
       "F  False  False  False  True   True"
      ],
      "text/html": "<div>\n<style scoped>\n    .dataframe tbody tr th:only-of-type {\n        vertical-align: middle;\n    }\n\n    .dataframe tbody tr th {\n        vertical-align: top;\n    }\n\n    .dataframe thead th {\n        text-align: right;\n    }\n</style>\n<table border=\"1\" class=\"dataframe\">\n  <thead>\n    <tr style=\"text-align: right;\">\n      <th></th>\n      <th>1</th>\n      <th>2</th>\n      <th>3</th>\n      <th>min</th>\n      <th>test1</th>\n    </tr>\n  </thead>\n  <tbody>\n    <tr>\n      <th>A</th>\n      <td>False</td>\n      <td>False</td>\n      <td>False</td>\n      <td>True</td>\n      <td>True</td>\n    </tr>\n    <tr>\n      <th>B</th>\n      <td>False</td>\n      <td>False</td>\n      <td>False</td>\n      <td>True</td>\n      <td>True</td>\n    </tr>\n    <tr>\n      <th>C</th>\n      <td>False</td>\n      <td>False</td>\n      <td>False</td>\n      <td>True</td>\n      <td>True</td>\n    </tr>\n    <tr>\n      <th>D</th>\n      <td>False</td>\n      <td>False</td>\n      <td>False</td>\n      <td>True</td>\n      <td>True</td>\n    </tr>\n    <tr>\n      <th>E</th>\n      <td>False</td>\n      <td>False</td>\n      <td>False</td>\n      <td>True</td>\n      <td>True</td>\n    </tr>\n    <tr>\n      <th>F</th>\n      <td>False</td>\n      <td>False</td>\n      <td>False</td>\n      <td>True</td>\n      <td>True</td>\n    </tr>\n  </tbody>\n</table>\n</div>"
     },
     "metadata": {},
     "execution_count": 55
    }
   ],
   "source": [
    "df > 3"
   ]
  },
  {
   "cell_type": "code",
   "execution_count": 56,
   "metadata": {},
   "outputs": [
    {
     "output_type": "execute_result",
     "data": {
      "text/plain": [
       "          1         2         3  min  test1\n",
       "A  2.605967  0.683509  0.302665   10     20\n",
       "B  1.693723       NaN       NaN   11     22\n",
       "C       NaN  0.390528  0.166905   12     24\n",
       "D  0.184502  0.807706  0.072960   13     26\n",
       "E  0.638787  0.329646       NaN   14     28\n",
       "F       NaN       NaN  0.484752   15     30"
      ],
      "text/html": "<div>\n<style scoped>\n    .dataframe tbody tr th:only-of-type {\n        vertical-align: middle;\n    }\n\n    .dataframe tbody tr th {\n        vertical-align: top;\n    }\n\n    .dataframe thead th {\n        text-align: right;\n    }\n</style>\n<table border=\"1\" class=\"dataframe\">\n  <thead>\n    <tr style=\"text-align: right;\">\n      <th></th>\n      <th>1</th>\n      <th>2</th>\n      <th>3</th>\n      <th>min</th>\n      <th>test1</th>\n    </tr>\n  </thead>\n  <tbody>\n    <tr>\n      <th>A</th>\n      <td>2.605967</td>\n      <td>0.683509</td>\n      <td>0.302665</td>\n      <td>10</td>\n      <td>20</td>\n    </tr>\n    <tr>\n      <th>B</th>\n      <td>1.693723</td>\n      <td>NaN</td>\n      <td>NaN</td>\n      <td>11</td>\n      <td>22</td>\n    </tr>\n    <tr>\n      <th>C</th>\n      <td>NaN</td>\n      <td>0.390528</td>\n      <td>0.166905</td>\n      <td>12</td>\n      <td>24</td>\n    </tr>\n    <tr>\n      <th>D</th>\n      <td>0.184502</td>\n      <td>0.807706</td>\n      <td>0.072960</td>\n      <td>13</td>\n      <td>26</td>\n    </tr>\n    <tr>\n      <th>E</th>\n      <td>0.638787</td>\n      <td>0.329646</td>\n      <td>NaN</td>\n      <td>14</td>\n      <td>28</td>\n    </tr>\n    <tr>\n      <th>F</th>\n      <td>NaN</td>\n      <td>NaN</td>\n      <td>0.484752</td>\n      <td>15</td>\n      <td>30</td>\n    </tr>\n  </tbody>\n</table>\n</div>"
     },
     "metadata": {},
     "execution_count": 56
    }
   ],
   "source": [
    "df[df>0]"
   ]
  },
  {
   "cell_type": "code",
   "execution_count": 61,
   "metadata": {},
   "outputs": [
    {
     "output_type": "execute_result",
     "data": {
      "text/plain": [
       "          1         2         3  min  test1\n",
       "D  0.184502  0.807706  0.072960   13     26\n",
       "E  0.638787  0.329646 -0.497104   14     28\n",
       "F -0.754070 -0.943406  0.484752   15     30"
      ],
      "text/html": "<div>\n<style scoped>\n    .dataframe tbody tr th:only-of-type {\n        vertical-align: middle;\n    }\n\n    .dataframe tbody tr th {\n        vertical-align: top;\n    }\n\n    .dataframe thead th {\n        text-align: right;\n    }\n</style>\n<table border=\"1\" class=\"dataframe\">\n  <thead>\n    <tr style=\"text-align: right;\">\n      <th></th>\n      <th>1</th>\n      <th>2</th>\n      <th>3</th>\n      <th>min</th>\n      <th>test1</th>\n    </tr>\n  </thead>\n  <tbody>\n    <tr>\n      <th>D</th>\n      <td>0.184502</td>\n      <td>0.807706</td>\n      <td>0.072960</td>\n      <td>13</td>\n      <td>26</td>\n    </tr>\n    <tr>\n      <th>E</th>\n      <td>0.638787</td>\n      <td>0.329646</td>\n      <td>-0.497104</td>\n      <td>14</td>\n      <td>28</td>\n    </tr>\n    <tr>\n      <th>F</th>\n      <td>-0.754070</td>\n      <td>-0.943406</td>\n      <td>0.484752</td>\n      <td>15</td>\n      <td>30</td>\n    </tr>\n  </tbody>\n</table>\n</div>"
     },
     "metadata": {},
     "execution_count": 61
    }
   ],
   "source": [
    "df[df['min']>12]"
   ]
  },
  {
   "cell_type": "code",
   "execution_count": 62,
   "metadata": {},
   "outputs": [
    {
     "output_type": "execute_result",
     "data": {
      "text/plain": [
       "D    13\n",
       "E    14\n",
       "F    15\n",
       "Name: min, dtype: int64"
      ]
     },
     "metadata": {},
     "execution_count": 62
    }
   ],
   "source": [
    "df[df['test1']>24]['min']"
   ]
  },
  {
   "cell_type": "code",
   "execution_count": 63,
   "metadata": {},
   "outputs": [
    {
     "output_type": "execute_result",
     "data": {
      "text/plain": [
       "          2         3\n",
       "A  0.683509  0.302665\n",
       "B -1.706086 -1.159119\n",
       "D  0.807706  0.072960\n",
       "E  0.329646 -0.497104"
      ],
      "text/html": "<div>\n<style scoped>\n    .dataframe tbody tr th:only-of-type {\n        vertical-align: middle;\n    }\n\n    .dataframe tbody tr th {\n        vertical-align: top;\n    }\n\n    .dataframe thead th {\n        text-align: right;\n    }\n</style>\n<table border=\"1\" class=\"dataframe\">\n  <thead>\n    <tr style=\"text-align: right;\">\n      <th></th>\n      <th>2</th>\n      <th>3</th>\n    </tr>\n  </thead>\n  <tbody>\n    <tr>\n      <th>A</th>\n      <td>0.683509</td>\n      <td>0.302665</td>\n    </tr>\n    <tr>\n      <th>B</th>\n      <td>-1.706086</td>\n      <td>-1.159119</td>\n    </tr>\n    <tr>\n      <th>D</th>\n      <td>0.807706</td>\n      <td>0.072960</td>\n    </tr>\n    <tr>\n      <th>E</th>\n      <td>0.329646</td>\n      <td>-0.497104</td>\n    </tr>\n  </tbody>\n</table>\n</div>"
     },
     "metadata": {},
     "execution_count": 63
    }
   ],
   "source": [
    "df[df['1']>0][['2','3']]"
   ]
  },
  {
   "cell_type": "code",
   "execution_count": 66,
   "metadata": {},
   "outputs": [
    {
     "output_type": "execute_result",
     "data": {
      "text/plain": [
       "          1         2         3  min  test1\n",
       "A  2.605967  0.683509  0.302665   10     20"
      ],
      "text/html": "<div>\n<style scoped>\n    .dataframe tbody tr th:only-of-type {\n        vertical-align: middle;\n    }\n\n    .dataframe tbody tr th {\n        vertical-align: top;\n    }\n\n    .dataframe thead th {\n        text-align: right;\n    }\n</style>\n<table border=\"1\" class=\"dataframe\">\n  <thead>\n    <tr style=\"text-align: right;\">\n      <th></th>\n      <th>1</th>\n      <th>2</th>\n      <th>3</th>\n      <th>min</th>\n      <th>test1</th>\n    </tr>\n  </thead>\n  <tbody>\n    <tr>\n      <th>A</th>\n      <td>2.605967</td>\n      <td>0.683509</td>\n      <td>0.302665</td>\n      <td>10</td>\n      <td>20</td>\n    </tr>\n  </tbody>\n</table>\n</div>"
     },
     "metadata": {},
     "execution_count": 66
    }
   ],
   "source": [
    "df[(df['1']>1)&(df['2']>0)]"
   ]
  },
  {
   "cell_type": "code",
   "execution_count": 74,
   "metadata": {},
   "outputs": [],
   "source": [
    "x = (['test2','Female','3523-12-04','1000000'],\n",
    "['test1','Male','5125-04-42','6000000'],\n",
    "['test3','Female','1252-08-21','5000000'],\n",
    "['test4','Male','2016-11-52','4000000'],\n",
    "['test5','Male','2124-02-12','2000000'])\n",
    "\n",
    "df = pd.DataFrame((x),index='100111 100112 200210 200211 300207'.split(),columns='name gender hiredate grosssalary'.split())"
   ]
  },
  {
   "cell_type": "code",
   "execution_count": 75,
   "metadata": {},
   "outputs": [
    {
     "output_type": "execute_result",
     "data": {
      "text/plain": [
       "         name gender    hiredate grosssalary\n",
       "200211  test4   Male  2016-11-52     4000000"
      ],
      "text/html": "<div>\n<style scoped>\n    .dataframe tbody tr th:only-of-type {\n        vertical-align: middle;\n    }\n\n    .dataframe tbody tr th {\n        vertical-align: top;\n    }\n\n    .dataframe thead th {\n        text-align: right;\n    }\n</style>\n<table border=\"1\" class=\"dataframe\">\n  <thead>\n    <tr style=\"text-align: right;\">\n      <th></th>\n      <th>name</th>\n      <th>gender</th>\n      <th>hiredate</th>\n      <th>grosssalary</th>\n    </tr>\n  </thead>\n  <tbody>\n    <tr>\n      <th>200211</th>\n      <td>test4</td>\n      <td>Male</td>\n      <td>2016-11-52</td>\n      <td>4000000</td>\n    </tr>\n  </tbody>\n</table>\n</div>"
     },
     "metadata": {},
     "execution_count": 75
    }
   ],
   "source": [
    "df[df['name'] == 'test4']"
   ]
  },
  {
   "cell_type": "code",
   "execution_count": 76,
   "metadata": {},
   "outputs": [
    {
     "output_type": "execute_result",
     "data": {
      "text/plain": [
       "         name gender    hiredate grosssalary\n",
       "100112  test1   Male  5125-04-42     6000000\n",
       "200211  test4   Male  2016-11-52     4000000\n",
       "300207  test5   Male  2124-02-12     2000000"
      ],
      "text/html": "<div>\n<style scoped>\n    .dataframe tbody tr th:only-of-type {\n        vertical-align: middle;\n    }\n\n    .dataframe tbody tr th {\n        vertical-align: top;\n    }\n\n    .dataframe thead th {\n        text-align: right;\n    }\n</style>\n<table border=\"1\" class=\"dataframe\">\n  <thead>\n    <tr style=\"text-align: right;\">\n      <th></th>\n      <th>name</th>\n      <th>gender</th>\n      <th>hiredate</th>\n      <th>grosssalary</th>\n    </tr>\n  </thead>\n  <tbody>\n    <tr>\n      <th>100112</th>\n      <td>test1</td>\n      <td>Male</td>\n      <td>5125-04-42</td>\n      <td>6000000</td>\n    </tr>\n    <tr>\n      <th>200211</th>\n      <td>test4</td>\n      <td>Male</td>\n      <td>2016-11-52</td>\n      <td>4000000</td>\n    </tr>\n    <tr>\n      <th>300207</th>\n      <td>test5</td>\n      <td>Male</td>\n      <td>2124-02-12</td>\n      <td>2000000</td>\n    </tr>\n  </tbody>\n</table>\n</div>"
     },
     "metadata": {},
     "execution_count": 76
    }
   ],
   "source": [
    "df[df['gender'] =='Male']"
   ]
  },
  {
   "cell_type": "code",
   "execution_count": null,
   "metadata": {},
   "outputs": [],
   "source": []
  }
 ]
}